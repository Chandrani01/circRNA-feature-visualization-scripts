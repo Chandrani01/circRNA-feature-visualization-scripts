{
  "nbformat": 4,
  "nbformat_minor": 0,
  "metadata": {
    "colab": {
      "provenance": []
    },
    "kernelspec": {
      "name": "python3",
      "display_name": "Python 3"
    },
    "language_info": {
      "name": "python"
    }
  },
  "cells": [
    {
      "cell_type": "code",
      "execution_count": null,
      "metadata": {
        "id": "S9yQ_-g3frCg"
      },
      "outputs": [],
      "source": [
        "from google.colab import files\n",
        "# Upload the file\n",
        "uploaded = files.upload()\n",
        "\n",
        "import pandas as pd\n",
        "import matplotlib.pyplot as plt\n",
        "\n",
        "# Load the Excel file\n",
        "file_path = \"testfile(GC) (3).xlsx\"  # Update file name if different\n",
        "df = pd.read_excel(file_path)\n",
        "\n",
        "# Check the first few rows to confirm the data\n",
        "df.head()\n",
        "\n",
        "#  Create GC content categories based on a threshold (use this line only if you're applying a cutoff, e.g., 50%)\n",
        "df['GC_Category'] = df['GC Content'].apply(lambda x: 'High GC' if x >= 50 else 'Low GC')\n",
        "\n",
        "# Group and count circRNAs by Cellular Localization and Expression\n",
        "grouped_data = df.groupby(['GC_Category', 'expression']).size().unstack(fill_value=0)\n",
        "\n",
        "# Define bar width and positions for grouped bar chart\n",
        "bar_width = 0.35\n",
        "index = range(len(grouped_data))\n",
        "\n",
        "# Plot the bars for Upregulated and Downregulated circRNAs\n",
        "fig, ax = plt.subplots(figsize=(8, 6))\n",
        "\n",
        "# Plot Upregulated\n",
        "upregulated_bars = ax.bar(\n",
        "    [i - bar_width / 2 for i in index],\n",
        "    grouped_data['Up'],\n",
        "    bar_width,\n",
        "    label='Up',\n",
        "    color='blue'\n",
        ")\n",
        "\n",
        "# Plot Downregulated\n",
        "downregulated_bars = ax.bar(\n",
        "    [i + bar_width / 2 for i in index],\n",
        "    grouped_data['Down'],\n",
        "    bar_width,\n",
        "    label='Down',\n",
        "    color='red'\n",
        ")\n",
        "\n",
        "# Add data labels\n",
        "for container in [upregulated_bars, downregulated_bars]:\n",
        "    ax.bar_label(container, fmt='%d', label_type='center', fontsize=10, color='white', weight='bold')\n",
        "\n",
        "# Add plot details\n",
        "ax.set_title('Bar Graph of Up and Down-Regulated circRNAs by GC Content', fontsize=14)\n",
        "ax.set_xlabel('GC Content', fontsize=12)\n",
        "ax.set_ylabel('Gene Count', fontsize=12)\n",
        "ax.set_xticks(index)\n",
        "ax.set_xticklabels(grouped_data.index, rotation=45, ha='right', fontsize=10)\n",
        "\n",
        "# Add a legend\n",
        "ax.legend(title='expression')\n",
        "\n",
        "# Adjust layout and save the plot\n",
        "plt.tight_layout()\n",
        "plt.show()"
      ]
    }
  ]
}